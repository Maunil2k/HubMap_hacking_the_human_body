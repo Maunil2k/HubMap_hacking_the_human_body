{
 "cells": [
  {
   "cell_type": "code",
   "execution_count": 1,
   "id": "c30c8fe1",
   "metadata": {
    "_kg_hide-input": false,
    "_kg_hide-output": true,
    "execution": {
     "iopub.execute_input": "2022-09-05T07:03:46.499420Z",
     "iopub.status.busy": "2022-09-05T07:03:46.498922Z",
     "iopub.status.idle": "2022-09-05T07:04:00.076795Z",
     "shell.execute_reply": "2022-09-05T07:04:00.075657Z"
    },
    "papermill": {
     "duration": 13.587464,
     "end_time": "2022-09-05T07:04:00.079674",
     "exception": false,
     "start_time": "2022-09-05T07:03:46.492210",
     "status": "completed"
    },
    "tags": []
   },
   "outputs": [
    {
     "name": "stdout",
     "output_type": "stream",
     "text": [
      "Collecting segmentation-models\r\n",
      "  Downloading segmentation_models-1.0.1-py3-none-any.whl (33 kB)\r\n",
      "Collecting image-classifiers==1.0.0\r\n",
      "  Downloading image_classifiers-1.0.0-py3-none-any.whl (19 kB)\r\n",
      "Collecting keras-applications<=1.0.8,>=1.0.7\r\n",
      "  Downloading Keras_Applications-1.0.8-py3-none-any.whl (50 kB)\r\n",
      "\u001b[2K     \u001b[90m━━━━━━━━━━━━━━━━━━━━━━━━━━━━━━━━━━━━━━━\u001b[0m \u001b[32m50.7/50.7 kB\u001b[0m \u001b[31m679.1 kB/s\u001b[0m eta \u001b[36m0:00:00\u001b[0m\r\n",
      "\u001b[?25hCollecting efficientnet==1.0.0\r\n",
      "  Downloading efficientnet-1.0.0-py3-none-any.whl (17 kB)\r\n",
      "Requirement already satisfied: scikit-image in /opt/conda/lib/python3.7/site-packages (from efficientnet==1.0.0->segmentation-models) (0.19.3)\r\n",
      "Requirement already satisfied: numpy>=1.9.1 in /opt/conda/lib/python3.7/site-packages (from keras-applications<=1.0.8,>=1.0.7->segmentation-models) (1.21.6)\r\n",
      "Requirement already satisfied: h5py in /opt/conda/lib/python3.7/site-packages (from keras-applications<=1.0.8,>=1.0.7->segmentation-models) (3.7.0)\r\n",
      "Requirement already satisfied: tifffile>=2019.7.26 in /opt/conda/lib/python3.7/site-packages (from scikit-image->efficientnet==1.0.0->segmentation-models) (2021.11.2)\r\n",
      "Requirement already satisfied: packaging>=20.0 in /opt/conda/lib/python3.7/site-packages (from scikit-image->efficientnet==1.0.0->segmentation-models) (21.3)\r\n",
      "Requirement already satisfied: pillow!=7.1.0,!=7.1.1,!=8.3.0,>=6.1.0 in /opt/conda/lib/python3.7/site-packages (from scikit-image->efficientnet==1.0.0->segmentation-models) (9.1.1)\r\n",
      "Requirement already satisfied: PyWavelets>=1.1.1 in /opt/conda/lib/python3.7/site-packages (from scikit-image->efficientnet==1.0.0->segmentation-models) (1.3.0)\r\n",
      "Requirement already satisfied: imageio>=2.4.1 in /opt/conda/lib/python3.7/site-packages (from scikit-image->efficientnet==1.0.0->segmentation-models) (2.19.3)\r\n",
      "Requirement already satisfied: scipy>=1.4.1 in /opt/conda/lib/python3.7/site-packages (from scikit-image->efficientnet==1.0.0->segmentation-models) (1.7.3)\r\n",
      "Requirement already satisfied: networkx>=2.2 in /opt/conda/lib/python3.7/site-packages (from scikit-image->efficientnet==1.0.0->segmentation-models) (2.5)\r\n",
      "Requirement already satisfied: decorator>=4.3.0 in /opt/conda/lib/python3.7/site-packages (from networkx>=2.2->scikit-image->efficientnet==1.0.0->segmentation-models) (5.1.1)\r\n",
      "Requirement already satisfied: pyparsing!=3.0.5,>=2.0.2 in /opt/conda/lib/python3.7/site-packages (from packaging>=20.0->scikit-image->efficientnet==1.0.0->segmentation-models) (3.0.9)\r\n",
      "Installing collected packages: keras-applications, image-classifiers, efficientnet, segmentation-models\r\n",
      "Successfully installed efficientnet-1.0.0 image-classifiers-1.0.0 keras-applications-1.0.8 segmentation-models-1.0.1\r\n",
      "\u001b[33mWARNING: Running pip as the 'root' user can result in broken permissions and conflicting behaviour with the system package manager. It is recommended to use a virtual environment instead: https://pip.pypa.io/warnings/venv\u001b[0m\u001b[33m\r\n",
      "\u001b[0m"
     ]
    }
   ],
   "source": [
    "!pip install -U segmentation-models"
   ]
  },
  {
   "cell_type": "code",
   "execution_count": 2,
   "id": "504ec7d8",
   "metadata": {
    "_cell_guid": "b1076dfc-b9ad-4769-8c92-a6c4dae69d19",
    "_uuid": "8f2839f25d086af736a60e9eeb907d3b93b6e0e5",
    "execution": {
     "iopub.execute_input": "2022-09-05T07:04:00.091285Z",
     "iopub.status.busy": "2022-09-05T07:04:00.090967Z",
     "iopub.status.idle": "2022-09-05T07:04:08.228419Z",
     "shell.execute_reply": "2022-09-05T07:04:08.227395Z"
    },
    "papermill": {
     "duration": 8.145846,
     "end_time": "2022-09-05T07:04:08.230505",
     "exception": false,
     "start_time": "2022-09-05T07:04:00.084659",
     "status": "completed"
    },
    "tags": []
   },
   "outputs": [
    {
     "name": "stdout",
     "output_type": "stream",
     "text": [
      "Segmentation Models: using `keras` framework.\n"
     ]
    },
    {
     "data": {
      "text/plain": [
       "'tf.keras'"
      ]
     },
     "execution_count": 2,
     "metadata": {},
     "output_type": "execute_result"
    }
   ],
   "source": [
    "import numpy as np\n",
    "import pandas as pd\n",
    "import matplotlib.pyplot as plt\n",
    "import cv2\n",
    "from PIL import Image\n",
    "import tifffile as tiff\n",
    "from tqdm.auto import tqdm\n",
    "from glob import glob\n",
    "import gc\n",
    "import os\n",
    "import warnings \n",
    "os.environ['TF_CPP_MIN_LOG_LEVEL'] = '2'\n",
    "gc.enable()\n",
    "warnings.simplefilter('ignore')\n",
    "\n",
    "import tensorflow as tf\n",
    "from tensorflow import keras\n",
    "from tensorflow.keras import backend as K\n",
    "from tensorflow.keras.losses import binary_crossentropy\n",
    "import albumentations as A\n",
    "from sklearn.model_selection import train_test_split\n",
    "import segmentation_models as sm\n",
    "from segmentation_models import Unet\n",
    "from tensorflow.keras import layers\n",
    "\n",
    "\n",
    "sm.set_framework('tf.keras')\n",
    "sm.framework()"
   ]
  },
  {
   "cell_type": "code",
   "execution_count": 3,
   "id": "b9a9ac06",
   "metadata": {
    "execution": {
     "iopub.execute_input": "2022-09-05T07:04:08.242216Z",
     "iopub.status.busy": "2022-09-05T07:04:08.240995Z",
     "iopub.status.idle": "2022-09-05T07:04:08.246167Z",
     "shell.execute_reply": "2022-09-05T07:04:08.245261Z"
    },
    "papermill": {
     "duration": 0.012797,
     "end_time": "2022-09-05T07:04:08.248171",
     "exception": false,
     "start_time": "2022-09-05T07:04:08.235374",
     "status": "completed"
    },
    "tags": []
   },
   "outputs": [],
   "source": [
    "cfg = {\n",
    "    'train_df': '../input/hubmap-organ-segmentation/train.csv',\n",
    "    'train_img': '../input/hubmap-organ-segmentation/train_images/',\n",
    "    'train_annot': '../input/hubmap-organ-segmentation/train_annotations/',\n",
    "    'batch size': 4,\n",
    "    'epochs': 25,\n",
    "    'img_shape': 512,\n",
    "    'lr': 1e-03\n",
    "}"
   ]
  },
  {
   "cell_type": "code",
   "execution_count": 4,
   "id": "b57ff460",
   "metadata": {
    "execution": {
     "iopub.execute_input": "2022-09-05T07:04:08.259669Z",
     "iopub.status.busy": "2022-09-05T07:04:08.258685Z",
     "iopub.status.idle": "2022-09-05T07:04:08.267460Z",
     "shell.execute_reply": "2022-09-05T07:04:08.266629Z"
    },
    "papermill": {
     "duration": 0.01661,
     "end_time": "2022-09-05T07:04:08.269446",
     "exception": false,
     "start_time": "2022-09-05T07:04:08.252836",
     "status": "completed"
    },
    "tags": []
   },
   "outputs": [],
   "source": [
    "def mask2rle(img):\n",
    "    '''\n",
    "    img: numpy array, 1 - mask, 0 - background\n",
    "    Returns run length as string formated\n",
    "    '''\n",
    "    pixels= img.T.flatten()\n",
    "    pixels = np.concatenate([[0], pixels, [0]])\n",
    "    runs = np.where(pixels[1:] != pixels[:-1])[0] + 1\n",
    "    runs[1::2] -= runs[::2]\n",
    "    return ' '.join(str(x) for x in runs)\n",
    "\n",
    "def rle2mask(mask_rle, shape=(1600,256)):\n",
    "    '''\n",
    "    mask_rle: run-length as string formated (start length)\n",
    "    shape: (width,height) of array to return \n",
    "    Returns numpy array, 1 - mask, 0 - background\n",
    "\n",
    "    '''\n",
    "    s = mask_rle.split()\n",
    "    starts, lengths = [np.asarray(x, dtype=int) for x in (s[0:][::2], s[1:][::2])]\n",
    "    starts -= 1\n",
    "    ends = starts + lengths\n",
    "    img = np.zeros(shape[0]*shape[1], dtype=np.uint8)\n",
    "    for lo, hi in zip(starts, ends):\n",
    "        img[lo:hi] = 1\n",
    "    return img.reshape(shape).T"
   ]
  },
  {
   "cell_type": "code",
   "execution_count": 5,
   "id": "bdc7e3af",
   "metadata": {
    "execution": {
     "iopub.execute_input": "2022-09-05T07:04:08.280288Z",
     "iopub.status.busy": "2022-09-05T07:04:08.279614Z",
     "iopub.status.idle": "2022-09-05T07:04:08.585563Z",
     "shell.execute_reply": "2022-09-05T07:04:08.584503Z"
    },
    "papermill": {
     "duration": 0.313589,
     "end_time": "2022-09-05T07:04:08.587760",
     "exception": false,
     "start_time": "2022-09-05T07:04:08.274171",
     "status": "completed"
    },
    "tags": []
   },
   "outputs": [
    {
     "data": {
      "text/html": [
       "<div>\n",
       "<style scoped>\n",
       "    .dataframe tbody tr th:only-of-type {\n",
       "        vertical-align: middle;\n",
       "    }\n",
       "\n",
       "    .dataframe tbody tr th {\n",
       "        vertical-align: top;\n",
       "    }\n",
       "\n",
       "    .dataframe thead th {\n",
       "        text-align: right;\n",
       "    }\n",
       "</style>\n",
       "<table border=\"1\" class=\"dataframe\">\n",
       "  <thead>\n",
       "    <tr style=\"text-align: right;\">\n",
       "      <th></th>\n",
       "      <th>id</th>\n",
       "      <th>rle</th>\n",
       "      <th>augmentation</th>\n",
       "    </tr>\n",
       "  </thead>\n",
       "  <tbody>\n",
       "    <tr>\n",
       "      <th>0</th>\n",
       "      <td>10044</td>\n",
       "      <td>1459676 77 1462675 82 1465674 87 1468673 92 14...</td>\n",
       "      <td>None</td>\n",
       "    </tr>\n",
       "    <tr>\n",
       "      <th>1</th>\n",
       "      <td>10274</td>\n",
       "      <td>715707 2 718705 8 721703 11 724701 18 727692 3...</td>\n",
       "      <td>None</td>\n",
       "    </tr>\n",
       "    <tr>\n",
       "      <th>2</th>\n",
       "      <td>10392</td>\n",
       "      <td>1228631 20 1231629 24 1234624 40 1237623 47 12...</td>\n",
       "      <td>None</td>\n",
       "    </tr>\n",
       "    <tr>\n",
       "      <th>3</th>\n",
       "      <td>10488</td>\n",
       "      <td>3446519 15 3449517 17 3452514 20 3455510 24 34...</td>\n",
       "      <td>None</td>\n",
       "    </tr>\n",
       "    <tr>\n",
       "      <th>4</th>\n",
       "      <td>10610</td>\n",
       "      <td>478925 68 481909 87 484893 105 487863 154 4908...</td>\n",
       "      <td>None</td>\n",
       "    </tr>\n",
       "  </tbody>\n",
       "</table>\n",
       "</div>"
      ],
      "text/plain": [
       "      id                                                rle augmentation\n",
       "0  10044  1459676 77 1462675 82 1465674 87 1468673 92 14...         None\n",
       "1  10274  715707 2 718705 8 721703 11 724701 18 727692 3...         None\n",
       "2  10392  1228631 20 1231629 24 1234624 40 1237623 47 12...         None\n",
       "3  10488  3446519 15 3449517 17 3452514 20 3455510 24 34...         None\n",
       "4  10610  478925 68 481909 87 484893 105 487863 154 4908...         None"
      ]
     },
     "execution_count": 5,
     "metadata": {},
     "output_type": "execute_result"
    }
   ],
   "source": [
    "df = pd.read_csv(cfg['train_df'])\n",
    "del df['age'], df['img_height'], df['img_width'], df['pixel_size'], df['tissue_thickness'], df['sex'], df['data_source'], df['organ']\n",
    "df['augmentation'] = None\n",
    "df.head()"
   ]
  },
  {
   "cell_type": "code",
   "execution_count": 6,
   "id": "47a71195",
   "metadata": {
    "execution": {
     "iopub.execute_input": "2022-09-05T07:04:08.599182Z",
     "iopub.status.busy": "2022-09-05T07:04:08.598883Z",
     "iopub.status.idle": "2022-09-05T07:04:08.615827Z",
     "shell.execute_reply": "2022-09-05T07:04:08.614890Z"
    },
    "papermill": {
     "duration": 0.025968,
     "end_time": "2022-09-05T07:04:08.618846",
     "exception": false,
     "start_time": "2022-09-05T07:04:08.592878",
     "status": "completed"
    },
    "tags": []
   },
   "outputs": [
    {
     "name": "stdout",
     "output_type": "stream",
     "text": [
      "<class 'pandas.core.frame.DataFrame'>\n",
      "RangeIndex: 351 entries, 0 to 350\n",
      "Data columns (total 3 columns):\n",
      " #   Column        Non-Null Count  Dtype \n",
      "---  ------        --------------  ----- \n",
      " 0   id            351 non-null    int64 \n",
      " 1   rle           351 non-null    object\n",
      " 2   augmentation  0 non-null      object\n",
      "dtypes: int64(1), object(2)\n",
      "memory usage: 8.4+ KB\n"
     ]
    }
   ],
   "source": [
    "df.info()"
   ]
  },
  {
   "cell_type": "code",
   "execution_count": 7,
   "id": "d05fc3a0",
   "metadata": {
    "execution": {
     "iopub.execute_input": "2022-09-05T07:04:08.633815Z",
     "iopub.status.busy": "2022-09-05T07:04:08.632170Z",
     "iopub.status.idle": "2022-09-05T07:04:08.651246Z",
     "shell.execute_reply": "2022-09-05T07:04:08.650428Z"
    },
    "papermill": {
     "duration": 0.02815,
     "end_time": "2022-09-05T07:04:08.653346",
     "exception": false,
     "start_time": "2022-09-05T07:04:08.625196",
     "status": "completed"
    },
    "tags": []
   },
   "outputs": [],
   "source": [
    "class DataSetGen(tf.keras.utils.Sequence):\n",
    "    def __init__(\n",
    "        self, df,\n",
    "        img_dir=cfg['train_img'],\n",
    "        img_shape=cfg['img_shape'],\n",
    "        batch_size=cfg['batch size'],\n",
    "        validation_split=0.2,\n",
    "        augments= True,\n",
    "        shuffle=True\n",
    "    ):\n",
    "        self.img_dir = img_dir\n",
    "        self.img_shape = img_shape\n",
    "        self.batch_size = batch_size\n",
    "        self.shuffle = shuffle\n",
    "        self.augments = augments\n",
    "        self.idx = 3\n",
    "        \n",
    "        if augments:    \n",
    "            if self.idx % 2 ==0:\n",
    "                self.transform = A.Compose([\n",
    "                    A.augmentations.crops.RandomResizedCrop(height=self.img_shape, width=self.img_shape),\n",
    "                    A.augmentations.Rotate(limit=90, p=0.5),\n",
    "                    A.augmentations.HorizontalFlip(p=0.5),\n",
    "                    A.augmentations.VerticalFlip(p=0.5),\n",
    "                    A.augmentations.transforms.ColorJitter(p=0.5),\n",
    "                    A.OneOf([\n",
    "                        A.OpticalDistortion(p=0.5),\n",
    "                        A.GridDistortion(p=.5),\n",
    "                        A.PiecewiseAffine(p=0.5),\n",
    "                    ], p=0.5),\n",
    "                    A.OneOf([\n",
    "                        A.HueSaturationValue(10, 15, 10),\n",
    "                        A.CLAHE(clip_limit=4),\n",
    "                        A.RandomBrightnessContrast(),            \n",
    "                    ], p=0.5)\n",
    "                ])\n",
    "                \n",
    "            else:\n",
    "                self.transform = A.Compose([\n",
    "                    A.RandomCrop(width=self.img_shape, height=self.img_shape),\n",
    "                    A.OneOf([\n",
    "                        A.HorizontalFlip(p=0.5),\n",
    "                        A.VerticalFlip(p=0.5)\n",
    "                    ]),\n",
    "                    A.RandomBrightnessContrast(p=0.2)\n",
    "                ])\n",
    "            \n",
    "        self.df = df; self.df = self.on_epoch_end()\n",
    "                \n",
    "        \n",
    "    def on_epoch_end(self):\n",
    "        '''\n",
    "        Called after the end of every epoch, here it shuffles the dataframe\n",
    "        '''\n",
    "        if self.shuffle:\n",
    "            self.df = self.df.sample(frac=1).reset_index(drop=True)\n",
    "        return self.df\n",
    "    \n",
    "    \n",
    "    def __len__(self):\n",
    "        '''\n",
    "        Denotes the number of batches per epoch\n",
    "        '''\n",
    "        return len(self.df) // self.batch_size\n",
    "    \n",
    "    \n",
    "    def __getitem__(self, idx):\n",
    "        '''\n",
    "        Generates one batch of data\n",
    "        '''\n",
    "        batch = self.df[idx * cfg['batch size'] : (idx+1) * cfg['batch size']]\n",
    "        X = []; Y = []\n",
    "        for _, row in batch.iterrows():\n",
    "            img_id = str(row['id']) + '.tiff'\n",
    "            img_path = os.path.join(self.img_dir, img_id)\n",
    "            rle = row['rle']; aug_type = row['augmentation']\n",
    "            del row; del img_id; gc.collect()\n",
    "            img, mask = self.__get_data(img_path, rle)\n",
    "            if self.augments:\n",
    "                aug = self.transform(image=img, mask=mask)\n",
    "                img = aug['image'] / 255.0; mask = aug['mask']\n",
    "            else:\n",
    "                img = img / 255.0\n",
    "            X.append(img); Y.append(mask)\n",
    "        return np.array(X), np.array(Y).astype(np.float32)\n",
    "    \n",
    "\n",
    "    def __get_data(self, img_path, rle):\n",
    "        '''\n",
    "        Reads image and masks, generates tiles\n",
    "        '''\n",
    "        img = np.array(Image.open(img_path))\n",
    "        mask = rle2mask(rle, (img.shape[0], img.shape[1]))\n",
    "        img = cv2.resize(img, (self.img_shape, self.img_shape)).astype('uint8')\n",
    "        mask = cv2.resize(mask, (self.img_shape, self.img_shape)).reshape((self.img_shape, self.img_shape, 1)).astype('int')\n",
    "        return img, mask"
   ]
  },
  {
   "cell_type": "code",
   "execution_count": 8,
   "id": "e05a45d2",
   "metadata": {
    "execution": {
     "iopub.execute_input": "2022-09-05T07:04:08.666121Z",
     "iopub.status.busy": "2022-09-05T07:04:08.665281Z",
     "iopub.status.idle": "2022-09-05T07:04:08.674782Z",
     "shell.execute_reply": "2022-09-05T07:04:08.673811Z"
    },
    "papermill": {
     "duration": 0.018104,
     "end_time": "2022-09-05T07:04:08.677061",
     "exception": false,
     "start_time": "2022-09-05T07:04:08.658957",
     "status": "completed"
    },
    "tags": []
   },
   "outputs": [],
   "source": [
    "train_df, valid_df = train_test_split(df, test_size=0.2, shuffle=False, random_state=0)\n",
    "train_ds = DataSetGen(train_df)\n",
    "valid_ds = DataSetGen(valid_df, augments=False)"
   ]
  },
  {
   "cell_type": "code",
   "execution_count": 9,
   "id": "9df8f7a6",
   "metadata": {
    "execution": {
     "iopub.execute_input": "2022-09-05T07:04:08.687891Z",
     "iopub.status.busy": "2022-09-05T07:04:08.687606Z",
     "iopub.status.idle": "2022-09-05T07:04:08.692013Z",
     "shell.execute_reply": "2022-09-05T07:04:08.691076Z"
    },
    "papermill": {
     "duration": 0.012151,
     "end_time": "2022-09-05T07:04:08.694051",
     "exception": false,
     "start_time": "2022-09-05T07:04:08.681900",
     "status": "completed"
    },
    "tags": []
   },
   "outputs": [],
   "source": [
    "# train = DataSetGen(train_df)\n",
    "# valid = DataSetGen(valid_df)\n",
    "\n",
    "# train_ds = tf.data.Dataset.from_generator(\n",
    "#     train,\n",
    "#     output_types=(tf.float32, tf.int8),\n",
    "#     output_shapes=((cfg['img_shape'], cfg['img_shape'], 3), (cfg['img_shape'], cfg['img_shape'], 1))\n",
    "# )\n",
    "\n",
    "# valid_ds = tf.data.Dataset.from_generator(\n",
    "#     valid,\n",
    "#     output_types=(tf.float32, tf.int8),\n",
    "#     output_shapes=((cfg['img_shape'], cfg['img_shape'], 3), (cfg['img_shape'], cfg['img_shape'], 1))\n",
    "# )\n",
    "\n",
    "# at = tf.data.AUTOTUNE\n",
    "# train_ds = train_ds.prefetch(at)#.batch(cfg['batch size'])\n",
    "# valid_ds = valid_ds.prefetch(at)#.batch(cfg['batch size'])"
   ]
  },
  {
   "cell_type": "code",
   "execution_count": 10,
   "id": "6d96e4bb",
   "metadata": {
    "execution": {
     "iopub.execute_input": "2022-09-05T07:04:08.704670Z",
     "iopub.status.busy": "2022-09-05T07:04:08.704381Z",
     "iopub.status.idle": "2022-09-05T07:04:08.716112Z",
     "shell.execute_reply": "2022-09-05T07:04:08.715068Z"
    },
    "papermill": {
     "duration": 0.019855,
     "end_time": "2022-09-05T07:04:08.718651",
     "exception": false,
     "start_time": "2022-09-05T07:04:08.698796",
     "status": "completed"
    },
    "tags": []
   },
   "outputs": [],
   "source": [
    "def dice_coef(y_true, y_pred, smooth=1):\n",
    "    y_true_f = K.flatten(y_true)\n",
    "    y_pred_f = K.flatten(y_pred)\n",
    "    intersection = K.sum(y_true_f * y_pred_f)\n",
    "    return (2. * intersection + smooth) / (K.sum(y_true_f) + K.sum(y_pred_f) + smooth)\n",
    "\n",
    "def iou_coef(y_true, y_pred, smooth=1e-06):\n",
    "    intersection = K.sum(K.abs(y_true * y_pred), axis=[1,2,3])\n",
    "    union = K.sum(y_true,[1,2,3])+K.sum(y_pred,[1,2,3])-intersection\n",
    "    iou = K.mean((intersection + smooth) / (union + smooth), axis=0)\n",
    "    return iou\n",
    "\n",
    "\n",
    "def dice_loss(y_true, y_pred):\n",
    "    smooth = 1.\n",
    "    y_true = tf.cast(y_true, tf.float32)\n",
    "    y_true_f = K.flatten(y_true)\n",
    "    y_pred_f = K.flatten(y_pred)\n",
    "    intersection = y_true_f * y_pred_f\n",
    "    score = (2. * K.sum(intersection) + smooth) / (K.sum(y_true_f) + K.sum(y_pred_f) + smooth)\n",
    "    return 1. - score\n",
    "\n",
    "def bce_dice_loss(y_true, y_pred):\n",
    "    return binary_crossentropy(tf.cast(y_true, tf.float32), y_pred) + 0.5 * dice_loss(tf.cast(y_true, tf.float32), y_pred)\n",
    "\n",
    "def weighted_loss(y_true, y_pred):\n",
    "    # Calculate the base loss\n",
    "    ce = K.sparse_categorical_crossentropy(y_true, y_pred)\n",
    "    # Apply the weights\n",
    "    one_weight = 1.0\n",
    "    zero_weight = 1e-2\n",
    "    weight_vector = y_true * one_weight + (1. - y_true) * zero_weight\n",
    "    weight_vector = K.squeeze(weight_vector, axis=-1)\n",
    "    weighted_ce = weight_vector * ce\n",
    "\n",
    "    # Return the mean error\n",
    "    return K.mean(weighted_ce)\n",
    "\n",
    "def soft_dice_loss(y_true, y_pred, epsilon=1e-6):\n",
    "    #ref: https://www.jeremyjordan.me/semantic-segmentation/\n",
    "    y_true = tf.cast(y_true, tf.float32)\n",
    "    axes = tuple(range(1, len(y_pred.shape)-1)) \n",
    "    numerator = 2. * np.sum(y_pred * y_true, axes)\n",
    "    denominator = np.sum(np.square(y_pred) + np.square(y_true), axes)\n",
    "    return 1 - np.mean((numerator + epsilon) / (denominator + epsilon))"
   ]
  },
  {
   "cell_type": "code",
   "execution_count": 11,
   "id": "b0abc091",
   "metadata": {
    "execution": {
     "iopub.execute_input": "2022-09-05T07:04:08.730092Z",
     "iopub.status.busy": "2022-09-05T07:04:08.729834Z",
     "iopub.status.idle": "2022-09-05T07:04:31.344861Z",
     "shell.execute_reply": "2022-09-05T07:04:31.343354Z"
    },
    "papermill": {
     "duration": 22.62403,
     "end_time": "2022-09-05T07:04:31.347828",
     "exception": false,
     "start_time": "2022-09-05T07:04:08.723798",
     "status": "completed"
    },
    "tags": []
   },
   "outputs": [
    {
     "name": "stdout",
     "output_type": "stream",
     "text": [
      "Downloading data from https://github.com/Callidior/keras-applications/releases/download/efficientnet/efficientnet-b3_weights_tf_dim_ordering_tf_kernels_autoaugment_notop.h5\n",
      "44113920/44107200 [==============================] - 14s 0us/step\n",
      "44122112/44107200 [==============================] - 14s 0us/step\n",
      "Model: \"model_1\"\n",
      "_________________________________________________________________\n",
      "Layer (type)                 Output Shape              Param #   \n",
      "=================================================================\n",
      "input_2 (InputLayer)         [(None, 512, 512, 3)]     0         \n",
      "_________________________________________________________________\n",
      "model (Functional)           (None, None, None, 1)     13911721  \n",
      "=================================================================\n",
      "Total params: 13,911,721\n",
      "Trainable params: 13,822,121\n",
      "Non-trainable params: 89,600\n",
      "_________________________________________________________________\n"
     ]
    }
   ],
   "source": [
    "base = sm.FPN('efficientnetb3', encoder_weights='imagenet', classes=1, activation='sigmoid')\n",
    "inpt = tf.keras.Input(shape=(cfg['img_shape'], cfg['img_shape'], 3))\n",
    "out = base(inpt)\n",
    "model = tf.keras.Model(inputs=inpt, outputs=out)\n",
    "model.summary()"
   ]
  },
  {
   "cell_type": "code",
   "execution_count": 12,
   "id": "0ef3c69a",
   "metadata": {
    "execution": {
     "iopub.execute_input": "2022-09-05T07:04:31.367966Z",
     "iopub.status.busy": "2022-09-05T07:04:31.367619Z",
     "iopub.status.idle": "2022-09-05T07:46:38.765274Z",
     "shell.execute_reply": "2022-09-05T07:46:38.763960Z"
    },
    "papermill": {
     "duration": 2527.410844,
     "end_time": "2022-09-05T07:46:38.768806",
     "exception": false,
     "start_time": "2022-09-05T07:04:31.357962",
     "status": "completed"
    },
    "tags": []
   },
   "outputs": [
    {
     "name": "stdout",
     "output_type": "stream",
     "text": [
      "Epoch 1/25\n",
      "70/70 [==============================] - 154s 2s/step - loss: 0.9752 - iou_coef: 0.2591 - f1-score: 0.4419 - val_loss: 1.3376 - val_iou_coef: 0.3242 - val_f1-score: 0.5375\n",
      "Epoch 2/25\n",
      "70/70 [==============================] - 140s 2s/step - loss: 0.7403 - iou_coef: 0.3970 - f1-score: 0.6147 - val_loss: 1.6963 - val_iou_coef: 0.2397 - val_f1-score: 0.4332\n",
      "Epoch 3/25\n",
      "70/70 [==============================] - 133s 2s/step - loss: 0.6660 - iou_coef: 0.4493 - f1-score: 0.6591 - val_loss: 0.8587 - val_iou_coef: 0.4452 - val_f1-score: 0.5871\n",
      "Epoch 4/25\n",
      "70/70 [==============================] - 136s 2s/step - loss: 0.5856 - iou_coef: 0.5009 - f1-score: 0.7085 - val_loss: 0.6723 - val_iou_coef: 0.4576 - val_f1-score: 0.6884\n",
      "Epoch 5/25\n",
      "70/70 [==============================] - 139s 2s/step - loss: 0.5330 - iou_coef: 0.5501 - f1-score: 0.7458 - val_loss: 0.6358 - val_iou_coef: 0.4908 - val_f1-score: 0.6997\n",
      "Epoch 6/25\n",
      "70/70 [==============================] - 138s 2s/step - loss: 0.5077 - iou_coef: 0.5525 - f1-score: 0.7615 - val_loss: 0.8015 - val_iou_coef: 0.4493 - val_f1-score: 0.6518\n",
      "Epoch 7/25\n",
      "70/70 [==============================] - 136s 2s/step - loss: 0.4846 - iou_coef: 0.5701 - f1-score: 0.7743 - val_loss: 0.5864 - val_iou_coef: 0.5467 - val_f1-score: 0.7497\n",
      "Epoch 8/25\n",
      "70/70 [==============================] - 136s 2s/step - loss: 0.4298 - iou_coef: 0.6029 - f1-score: 0.7986 - val_loss: 0.6476 - val_iou_coef: 0.4886 - val_f1-score: 0.6524\n",
      "Epoch 9/25\n",
      "70/70 [==============================] - 136s 2s/step - loss: 0.4209 - iou_coef: 0.6107 - f1-score: 0.8078 - val_loss: 0.5390 - val_iou_coef: 0.5458 - val_f1-score: 0.7591\n",
      "Epoch 10/25\n",
      "70/70 [==============================] - 136s 2s/step - loss: 0.3854 - iou_coef: 0.6446 - f1-score: 0.8266 - val_loss: 0.5502 - val_iou_coef: 0.5591 - val_f1-score: 0.7516\n",
      "Epoch 11/25\n",
      "70/70 [==============================] - 135s 2s/step - loss: 0.3984 - iou_coef: 0.6349 - f1-score: 0.8149 - val_loss: 0.5861 - val_iou_coef: 0.5305 - val_f1-score: 0.7369\n",
      "Epoch 12/25\n",
      "70/70 [==============================] - 139s 2s/step - loss: 0.4022 - iou_coef: 0.6361 - f1-score: 0.8178 - val_loss: 0.4993 - val_iou_coef: 0.5706 - val_f1-score: 0.7733\n",
      "Epoch 13/25\n",
      "70/70 [==============================] - 140s 2s/step - loss: 0.3620 - iou_coef: 0.6594 - f1-score: 0.8393 - val_loss: 0.5584 - val_iou_coef: 0.5491 - val_f1-score: 0.7358\n",
      "Epoch 14/25\n",
      "70/70 [==============================] - 138s 2s/step - loss: 0.3734 - iou_coef: 0.6551 - f1-score: 0.8318 - val_loss: 0.5689 - val_iou_coef: 0.5416 - val_f1-score: 0.7311\n",
      "Epoch 15/25\n",
      "70/70 [==============================] - 137s 2s/step - loss: 0.3527 - iou_coef: 0.6522 - f1-score: 0.8443 - val_loss: 0.5381 - val_iou_coef: 0.5593 - val_f1-score: 0.7566\n",
      "Epoch 16/25\n",
      "70/70 [==============================] - 139s 2s/step - loss: 0.3344 - iou_coef: 0.6724 - f1-score: 0.8521 - val_loss: 0.5945 - val_iou_coef: 0.5506 - val_f1-score: 0.7541\n",
      "Epoch 17/25\n",
      "70/70 [==============================] - 140s 2s/step - loss: 0.3252 - iou_coef: 0.6867 - f1-score: 0.8582 - val_loss: 0.5123 - val_iou_coef: 0.5820 - val_f1-score: 0.7855\n",
      "Epoch 18/25\n",
      "70/70 [==============================] - 137s 2s/step - loss: 0.3092 - iou_coef: 0.7048 - f1-score: 0.8629 - val_loss: 0.5181 - val_iou_coef: 0.5789 - val_f1-score: 0.7769\n"
     ]
    }
   ],
   "source": [
    "model.compile(\n",
    "    optimizer=tf.keras.optimizers.Adam(learning_rate=cfg['lr']),#SGD(learning_rate=cfg['lr'], momentum=0.9, nesterov=True)\n",
    "    loss= sm.losses.bce_jaccard_loss, #tf.keras.losses.BinaryCrossentropy(from_logits=False),\n",
    "    metrics= [iou_coef, sm.metrics.f1_score]\n",
    ")\n",
    "\n",
    "checkpoint = tf.keras.callbacks.ModelCheckpoint(\n",
    "    filepath='/kaggle/working/best_model.h5',\n",
    "    monitor='val_loss',\n",
    "    verbose=0,\n",
    "    save_best_only=True,\n",
    "    mode='min'\n",
    ")\n",
    "\n",
    "reduce_lr = tf.keras.callbacks.ReduceLROnPlateau(\n",
    "    monitor='val_loss',\n",
    "    factor=0.9,\n",
    "    patience=2,\n",
    "    verbose=0,\n",
    "    mode='min'\n",
    ")\n",
    "\n",
    "es = tf.keras.callbacks.EarlyStopping(\n",
    "    patience=6,\n",
    "    min_delta=0,\n",
    "    monitor='val_loss',\n",
    "    restore_best_weights=True,\n",
    "    verbose=0,\n",
    "    mode='min',\n",
    "    baseline=None\n",
    ")\n",
    "\n",
    "history = model.fit(train_ds, \n",
    "                    validation_data=valid_ds,\n",
    "                    use_multiprocessing=True,\n",
    "                    workers=4,\n",
    "                    epochs = cfg['epochs'],\n",
    "                    callbacks=[es,reduce_lr,checkpoint],\n",
    "                    verbose=1\n",
    "                   )"
   ]
  },
  {
   "cell_type": "code",
   "execution_count": 13,
   "id": "34736f11",
   "metadata": {
    "execution": {
     "iopub.execute_input": "2022-09-05T07:46:38.924056Z",
     "iopub.status.busy": "2022-09-05T07:46:38.922838Z",
     "iopub.status.idle": "2022-09-05T07:46:38.932374Z",
     "shell.execute_reply": "2022-09-05T07:46:38.931372Z"
    },
    "papermill": {
     "duration": 0.089107,
     "end_time": "2022-09-05T07:46:38.934603",
     "exception": false,
     "start_time": "2022-09-05T07:46:38.845496",
     "status": "completed"
    },
    "tags": []
   },
   "outputs": [
    {
     "data": {
      "text/plain": [
       "dict_keys(['loss', 'iou_coef', 'f1-score', 'val_loss', 'val_iou_coef', 'val_f1-score', 'lr'])"
      ]
     },
     "execution_count": 13,
     "metadata": {},
     "output_type": "execute_result"
    }
   ],
   "source": [
    "history.history.keys()"
   ]
  },
  {
   "cell_type": "code",
   "execution_count": 14,
   "id": "94e3f2c8",
   "metadata": {
    "execution": {
     "iopub.execute_input": "2022-09-05T07:46:39.088223Z",
     "iopub.status.busy": "2022-09-05T07:46:39.087841Z",
     "iopub.status.idle": "2022-09-05T07:46:39.378483Z",
     "shell.execute_reply": "2022-09-05T07:46:39.377531Z"
    },
    "papermill": {
     "duration": 0.370734,
     "end_time": "2022-09-05T07:46:39.380733",
     "exception": false,
     "start_time": "2022-09-05T07:46:39.009999",
     "status": "completed"
    },
    "tags": []
   },
   "outputs": [
    {
     "data": {
      "image/png": "[encoded data removed]",
      "text/plain": [
       "<Figure size 432x288 with 1 Axes>"
      ]
     },
     "metadata": {
      "needs_background": "light"
     },
     "output_type": "display_data"
    }
   ],
   "source": [
    "plt.plot(history.history['loss'])\n",
    "plt.plot(history.history['val_loss'])\n",
    "plt.title('model loss')\n",
    "plt.ylabel('loss')\n",
    "plt.xlabel('epoch')\n",
    "plt.legend(['train', 'test'], loc='upper left')\n",
    "plt.show()"
   ]
  },
  {
   "cell_type": "code",
   "execution_count": 15,
   "id": "8ec8374b",
   "metadata": {
    "execution": {
     "iopub.execute_input": "2022-09-05T07:46:39.535343Z",
     "iopub.status.busy": "2022-09-05T07:46:39.534934Z",
     "iopub.status.idle": "2022-09-05T07:46:39.743589Z",
     "shell.execute_reply": "2022-09-05T07:46:39.742581Z"
    },
    "papermill": {
     "duration": 0.287873,
     "end_time": "2022-09-05T07:46:39.745688",
     "exception": false,
     "start_time": "2022-09-05T07:46:39.457815",
     "status": "completed"
    },
    "tags": []
   },
   "outputs": [
    {
     "data": {
      "image/png": "[encoded data removed]",
      "text/plain": [
       "<Figure size 432x288 with 1 Axes>"
      ]
     },
     "metadata": {
      "needs_background": "light"
     },
     "output_type": "display_data"
    }
   ],
   "source": [
    "plt.plot(history.history['f1-score'])\n",
    "plt.plot(history.history['val_f1-score'])\n",
    "plt.title('model dice coef')\n",
    "plt.ylabel('loss')\n",
    "plt.xlabel('epoch')\n",
    "plt.legend(['train', 'test'], loc='upper left')\n",
    "plt.show()"
   ]
  },
  {
   "cell_type": "code",
   "execution_count": 16,
   "id": "a8e5459a",
   "metadata": {
    "execution": {
     "iopub.execute_input": "2022-09-05T07:46:39.901209Z",
     "iopub.status.busy": "2022-09-05T07:46:39.900823Z",
     "iopub.status.idle": "2022-09-05T07:46:40.109328Z",
     "shell.execute_reply": "2022-09-05T07:46:40.108410Z"
    },
    "papermill": {
     "duration": 0.288525,
     "end_time": "2022-09-05T07:46:40.111790",
     "exception": false,
     "start_time": "2022-09-05T07:46:39.823265",
     "status": "completed"
    },
    "tags": []
   },
   "outputs": [
    {
     "data": {
      "image/png": "[encoded data removed]",
      "text/plain": [
       "<Figure size 432x288 with 1 Axes>"
      ]
     },
     "metadata": {
      "needs_background": "light"
     },
     "output_type": "display_data"
    }
   ],
   "source": [
    "plt.plot(history.history['iou_coef'])\n",
    "plt.plot(history.history['val_iou_coef'])\n",
    "plt.title('iou coef')\n",
    "plt.ylabel('loss')\n",
    "plt.xlabel('epoch')\n",
    "plt.legend(['train', 'test'], loc='upper left')\n",
    "plt.show()"
   ]
  },
  {
   "cell_type": "code",
   "execution_count": 17,
   "id": "ab944e03",
   "metadata": {
    "execution": {
     "iopub.execute_input": "2022-09-05T07:46:40.268454Z",
     "iopub.status.busy": "2022-09-05T07:46:40.268086Z",
     "iopub.status.idle": "2022-09-05T07:46:40.468474Z",
     "shell.execute_reply": "2022-09-05T07:46:40.467560Z"
    },
    "papermill": {
     "duration": 0.281933,
     "end_time": "2022-09-05T07:46:40.470688",
     "exception": false,
     "start_time": "2022-09-05T07:46:40.188755",
     "status": "completed"
    },
    "tags": []
   },
   "outputs": [
    {
     "data": {
      "image/png": "[encoded data removed]",
      "text/plain": [
       "<Figure size 432x288 with 1 Axes>"
      ]
     },
     "metadata": {
      "needs_background": "light"
     },
     "output_type": "display_data"
    }
   ],
   "source": [
    "plt.plot(history.history['lr'])\n",
    "plt.title('model lr')\n",
    "plt.ylabel('lr')\n",
    "plt.xlabel('epoch')\n",
    "plt.show()"
   ]
  }
 ],
 "metadata": {
  "kernelspec": {
   "display_name": "Python 3",
   "language": "python",
   "name": "python3"
  },
  "language_info": {
   "codemirror_mode": {
    "name": "ipython",
    "version": 3
   },
   "file_extension": ".py",
   "mimetype": "text/x-python",
   "name": "python",
   "nbconvert_exporter": "python",
   "pygments_lexer": "ipython3",
   "version": "3.7.12"
  },
  "papermill": {
   "default_parameters": {},
   "duration": 2585.521082,
   "end_time": "2022-09-05T07:46:43.296741",
   "environment_variables": {},
   "exception": null,
   "input_path": "__notebook__.ipynb",
   "output_path": "__notebook__.ipynb",
   "parameters": {},
   "start_time": "2022-09-05T07:03:37.775659",
   "version": "2.3.4"
  }
 },
 "nbformat": 4,
 "nbformat_minor": 5
}
