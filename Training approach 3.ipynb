{
 "cells": [
  {
   "cell_type": "code",
   "execution_count": 1,
   "id": "399a788e",
   "metadata": {
    "execution": {
     "iopub.execute_input": "2022-09-16T05:45:43.544558Z",
     "iopub.status.busy": "2022-09-16T05:45:43.544064Z",
     "iopub.status.idle": "2022-09-16T05:45:55.046253Z",
     "shell.execute_reply": "2022-09-16T05:45:55.044959Z"
    },
    "papermill": {
     "duration": 11.511256,
     "end_time": "2022-09-16T05:45:55.049625",
     "exception": false,
     "start_time": "2022-09-16T05:45:43.538369",
     "status": "completed"
    },
    "tags": []
   },
   "outputs": [
    {
     "name": "stdout",
     "output_type": "stream",
     "text": [
      "Collecting segmentation-models\r\n",
      "  Downloading segmentation_models-1.0.1-py3-none-any.whl (33 kB)\r\n",
      "Collecting image-classifiers==1.0.0\r\n",
      "  Downloading image_classifiers-1.0.0-py3-none-any.whl (19 kB)\r\n",
      "Collecting keras-applications<=1.0.8,>=1.0.7\r\n",
      "  Downloading Keras_Applications-1.0.8-py3-none-any.whl (50 kB)\r\n",
      "\u001b[2K     \u001b[90m━━━━━━━━━━━━━━━━━━━━━━━━━━━━━━━━━━━━━━━━\u001b[0m \u001b[32m50.7/50.7 kB\u001b[0m \u001b[31m1.6 MB/s\u001b[0m eta \u001b[36m0:00:00\u001b[0m\r\n",
      "\u001b[?25hCollecting efficientnet==1.0.0\r\n",
      "  Downloading efficientnet-1.0.0-py3-none-any.whl (17 kB)\r\n",
      "Requirement already satisfied: scikit-image in /opt/conda/lib/python3.7/site-packages (from efficientnet==1.0.0->segmentation-models) (0.19.3)\r\n",
      "Requirement already satisfied: numpy>=1.9.1 in /opt/conda/lib/python3.7/site-packages (from keras-applications<=1.0.8,>=1.0.7->segmentation-models) (1.21.6)\r\n",
      "Requirement already satisfied: h5py in /opt/conda/lib/python3.7/site-packages (from keras-applications<=1.0.8,>=1.0.7->segmentation-models) (3.7.0)\r\n",
      "Requirement already satisfied: scipy>=1.4.1 in /opt/conda/lib/python3.7/site-packages (from scikit-image->efficientnet==1.0.0->segmentation-models) (1.7.3)\r\n",
      "Requirement already satisfied: imageio>=2.4.1 in /opt/conda/lib/python3.7/site-packages (from scikit-image->efficientnet==1.0.0->segmentation-models) (2.19.3)\r\n",
      "Requirement already satisfied: PyWavelets>=1.1.1 in /opt/conda/lib/python3.7/site-packages (from scikit-image->efficientnet==1.0.0->segmentation-models) (1.3.0)\r\n",
      "Requirement already satisfied: tifffile>=2019.7.26 in /opt/conda/lib/python3.7/site-packages (from scikit-image->efficientnet==1.0.0->segmentation-models) (2021.11.2)\r\n",
      "Requirement already satisfied: networkx>=2.2 in /opt/conda/lib/python3.7/site-packages (from scikit-image->efficientnet==1.0.0->segmentation-models) (2.5)\r\n",
      "Requirement already satisfied: pillow!=7.1.0,!=7.1.1,!=8.3.0,>=6.1.0 in /opt/conda/lib/python3.7/site-packages (from scikit-image->efficientnet==1.0.0->segmentation-models) (9.1.1)\r\n",
      "Requirement already satisfied: packaging>=20.0 in /opt/conda/lib/python3.7/site-packages (from scikit-image->efficientnet==1.0.0->segmentation-models) (21.3)\r\n",
      "Requirement already satisfied: decorator>=4.3.0 in /opt/conda/lib/python3.7/site-packages (from networkx>=2.2->scikit-image->efficientnet==1.0.0->segmentation-models) (5.1.1)\r\n",
      "Requirement already satisfied: pyparsing!=3.0.5,>=2.0.2 in /opt/conda/lib/python3.7/site-packages (from packaging>=20.0->scikit-image->efficientnet==1.0.0->segmentation-models) (3.0.9)\r\n",
      "Installing collected packages: keras-applications, image-classifiers, efficientnet, segmentation-models\r\n",
      "Successfully installed efficientnet-1.0.0 image-classifiers-1.0.0 keras-applications-1.0.8 segmentation-models-1.0.1\r\n",
      "\u001b[33mWARNING: Running pip as the 'root' user can result in broken permissions and conflicting behaviour with the system package manager. It is recommended to use a virtual environment instead: https://pip.pypa.io/warnings/venv\u001b[0m\u001b[33m\r\n",
      "\u001b[0m"
     ]
    }
   ],
   "source": [
    "!pip install -U segmentation-models"
   ]
  },
  {
   "cell_type": "code",
   "execution_count": 2,
   "id": "ceff39ca",
   "metadata": {
    "execution": {
     "iopub.execute_input": "2022-09-16T05:45:55.059446Z",
     "iopub.status.busy": "2022-09-16T05:45:55.059129Z",
     "iopub.status.idle": "2022-09-16T05:46:02.711249Z",
     "shell.execute_reply": "2022-09-16T05:46:02.709506Z"
    },
    "papermill": {
     "duration": 7.659365,
     "end_time": "2022-09-16T05:46:02.713349",
     "exception": false,
     "start_time": "2022-09-16T05:45:55.053984",
     "status": "completed"
    },
    "tags": []
   },
   "outputs": [
    {
     "name": "stdout",
     "output_type": "stream",
     "text": [
      "Segmentation Models: using `keras` framework.\n"
     ]
    },
    {
     "data": {
      "text/plain": [
       "'tf.keras'"
      ]
     },
     "execution_count": 2,
     "metadata": {},
     "output_type": "execute_result"
    }
   ],
   "source": [
    "import numpy as np\n",
    "import pandas as pd\n",
    "import matplotlib.pyplot as plt\n",
    "import cv2\n",
    "from PIL import Image\n",
    "import tifffile as tiff\n",
    "from tqdm.auto import tqdm\n",
    "from glob import glob\n",
    "import gc\n",
    "import os\n",
    "import warnings \n",
    "import random\n",
    "os.environ['TF_CPP_MIN_LOG_LEVEL'] = '2'\n",
    "gc.enable()\n",
    "warnings.simplefilter('ignore')\n",
    "\n",
    "import tensorflow as tf\n",
    "from tensorflow import keras\n",
    "from tensorflow.keras import backend as K\n",
    "from tensorflow.keras.losses import binary_crossentropy\n",
    "import albumentations as A\n",
    "from sklearn.model_selection import train_test_split\n",
    "import segmentation_models as sm\n",
    "from segmentation_models import Unet\n",
    "from tensorflow.keras import layers\n",
    "from tensorflow.keras.layers import Input, Dropout, Lambda, Conv2D, Conv2DTranspose, MaxPooling2D, Concatenate, Activation, Add, multiply, add, concatenate, LeakyReLU, ZeroPadding2D, UpSampling2D, BatchNormalization\n",
    "from tensorflow.keras.regularizers import l2\n",
    "from tensorflow.keras.optimizers import Adam\n",
    "from tensorflow.keras.models import Model, load_model\n",
    "from tensorflow.keras.callbacks import EarlyStopping, ModelCheckpoint, ReduceLROnPlateau\n",
    "from tensorflow.keras import backend as K \n",
    "\n",
    "sm.set_framework('tf.keras')\n",
    "sm.framework()"
   ]
  },
  {
   "cell_type": "code",
   "execution_count": 3,
   "id": "c1d9c781",
   "metadata": {
    "execution": {
     "iopub.execute_input": "2022-09-16T05:46:02.723700Z",
     "iopub.status.busy": "2022-09-16T05:46:02.722309Z",
     "iopub.status.idle": "2022-09-16T05:46:02.727699Z",
     "shell.execute_reply": "2022-09-16T05:46:02.726791Z"
    },
    "papermill": {
     "duration": 0.012186,
     "end_time": "2022-09-16T05:46:02.729688",
     "exception": false,
     "start_time": "2022-09-16T05:46:02.717502",
     "status": "completed"
    },
    "tags": []
   },
   "outputs": [],
   "source": [
    "cfg = {\n",
    "    'train_df': '../input/hubmap-organ-segmentation/train.csv',\n",
    "    'train_img': '../input/new-hubmap-dataset-256p/images/',\n",
    "    'train_masks': '../input/new-hubmap-dataset-256p/masks/',\n",
    "    'batch size': 8,\n",
    "    'epochs': 50,\n",
    "    'img_shape': 256,\n",
    "    'lr': 1e-03\n",
    "}"
   ]
  },
  {
   "cell_type": "code",
   "execution_count": 4,
   "id": "a32762c7",
   "metadata": {
    "execution": {
     "iopub.execute_input": "2022-09-16T05:46:02.738979Z",
     "iopub.status.busy": "2022-09-16T05:46:02.738719Z",
     "iopub.status.idle": "2022-09-16T05:46:02.751761Z",
     "shell.execute_reply": "2022-09-16T05:46:02.750795Z"
    },
    "papermill": {
     "duration": 0.019664,
     "end_time": "2022-09-16T05:46:02.753676",
     "exception": false,
     "start_time": "2022-09-16T05:46:02.734012",
     "status": "completed"
    },
    "tags": []
   },
   "outputs": [],
   "source": [
    "class DataSetGen(tf.keras.utils.Sequence):\n",
    "    def __init__(\n",
    "        self,\n",
    "        images: list,\n",
    "        img_dir=cfg['train_img'], \n",
    "        mask_dir=cfg['train_masks'],\n",
    "        img_shape=cfg['img_shape'],\n",
    "        batch_size=cfg['batch size'],\n",
    "        augments= True,\n",
    "        shuffle=True\n",
    "    ):\n",
    "        self.images = images\n",
    "        self.img_dir = img_dir\n",
    "        self.mask_dir = mask_dir\n",
    "        self.img_shape = img_shape\n",
    "        self.batch_size = batch_size\n",
    "        self.augments = augments\n",
    "        self.shuffle = shuffle\n",
    "        self.on_epoch_end()\n",
    "        if augments:\n",
    "            self.transform = A.Compose([\n",
    "                A.augmentations.crops.RandomResizedCrop(height=self.img_shape, width=self.img_shape),\n",
    "                A.augmentations.Rotate(limit=90, p=0.5),\n",
    "                A.augmentations.HorizontalFlip(p=0.5),\n",
    "                A.augmentations.VerticalFlip(p=0.5),\n",
    "                A.augmentations.transforms.ColorJitter(p=0.5),\n",
    "                A.OneOf([\n",
    "                    A.OpticalDistortion(p=0.5),\n",
    "                    A.GridDistortion(p=.5),\n",
    "                    A.PiecewiseAffine(p=0.5),\n",
    "                ], p=0.5),\n",
    "                A.OneOf([\n",
    "                    A.HueSaturationValue(10, 15, 10),\n",
    "                    A.CLAHE(clip_limit=4),\n",
    "                    A.RandomBrightnessContrast(),            \n",
    "                ], p=0.5)\n",
    "            ])\n",
    "        \n",
    "    def on_epoch_end(self):\n",
    "        '''\n",
    "        Called after the end of every epoch, here it shuffles the dataframe\n",
    "        '''\n",
    "        if self.shuffle:\n",
    "            random.shuffle(self.images)\n",
    "        return self.images\n",
    "    \n",
    "    \n",
    "    def __len__(self):\n",
    "        '''\n",
    "        Denotes the number of batches per epoch\n",
    "        '''\n",
    "        return len(self.images) // self.batch_size\n",
    "    \n",
    "    \n",
    "    def __getitem__(self, idx):\n",
    "        '''\n",
    "        Generates one batch of data\n",
    "        '''\n",
    "        X=[]; y=[]\n",
    "        batch = self.images[idx * self.batch_size: (idx + 1) * self.batch_size]\n",
    "        for img_id in batch:\n",
    "            img = cv2.imread(os.path.join(self.img_dir, img_id), cv2.COLOR_BGR2RGB)\n",
    "            #img = cv2.resize(img, (cfg['img_shape'], cfg['img_shape']))\n",
    "            mask = cv2.imread(os.path.join(self.mask_dir, img_id), cv2.COLOR_BGR2GRAY)\n",
    "            #mask = cv2.resize(mask, (cfg['img_shape'], cfg['img_shape'])).reshape((cfg['img_shape'], cfg['img_shape'], 1))\n",
    "            if self.augments:\n",
    "                aug = self.transform(image=img, mask=mask)\n",
    "                img = aug['image'] / 255.0; mask = aug['mask']\n",
    "            else:\n",
    "                img = img / 255.0\n",
    "            X.append(img); y.append(mask)\n",
    "        return np.array(X).astype(np.float32), np.array(y).astype(np.float32)"
   ]
  },
  {
   "cell_type": "code",
   "execution_count": 5,
   "id": "348e9fa1",
   "metadata": {
    "execution": {
     "iopub.execute_input": "2022-09-16T05:46:02.762644Z",
     "iopub.status.busy": "2022-09-16T05:46:02.762374Z",
     "iopub.status.idle": "2022-09-16T05:46:03.140916Z",
     "shell.execute_reply": "2022-09-16T05:46:03.139968Z"
    },
    "papermill": {
     "duration": 0.385748,
     "end_time": "2022-09-16T05:46:03.143304",
     "exception": false,
     "start_time": "2022-09-16T05:46:02.757556",
     "status": "completed"
    },
    "tags": []
   },
   "outputs": [],
   "source": [
    "try:\n",
    "    train_imgs, valid_imgs = train_test_split(imgs, test_size=0.2, random_state=42, shuffle=False)\n",
    "    del imgs; gc.collect()\n",
    "except:\n",
    "    imgs = os.listdir(cfg['train_img'])#[:2808]\n",
    "    train_imgs, valid_imgs = train_test_split(imgs, test_size=0.2, random_state=42, shuffle=False)\n",
    "    del imgs; gc.collect()"
   ]
  },
  {
   "cell_type": "code",
   "execution_count": 6,
   "id": "1e9f2227",
   "metadata": {
    "execution": {
     "iopub.execute_input": "2022-09-16T05:46:03.152708Z",
     "iopub.status.busy": "2022-09-16T05:46:03.152388Z",
     "iopub.status.idle": "2022-09-16T05:46:03.162279Z",
     "shell.execute_reply": "2022-09-16T05:46:03.161465Z"
    },
    "papermill": {
     "duration": 0.016772,
     "end_time": "2022-09-16T05:46:03.164270",
     "exception": false,
     "start_time": "2022-09-16T05:46:03.147498",
     "status": "completed"
    },
    "tags": []
   },
   "outputs": [],
   "source": [
    "train_ds = DataSetGen(train_imgs, augments=True)\n",
    "valid_ds = DataSetGen(valid_imgs, augments=False)"
   ]
  },
  {
   "cell_type": "code",
   "execution_count": 7,
   "id": "55ebd933",
   "metadata": {
    "execution": {
     "iopub.execute_input": "2022-09-16T05:46:03.173260Z",
     "iopub.status.busy": "2022-09-16T05:46:03.173001Z",
     "iopub.status.idle": "2022-09-16T05:46:03.178483Z",
     "shell.execute_reply": "2022-09-16T05:46:03.177592Z"
    },
    "papermill": {
     "duration": 0.012398,
     "end_time": "2022-09-16T05:46:03.180529",
     "exception": false,
     "start_time": "2022-09-16T05:46:03.168131",
     "status": "completed"
    },
    "tags": []
   },
   "outputs": [],
   "source": [
    "# def dice_coef(y_true, y_pred, smooth=1):\n",
    "#     y_true_f = K.flatten(y_true)\n",
    "#     y_pred_f = K.flatten(y_pred)\n",
    "#     intersection = K.sum(y_true_f * y_pred_f)\n",
    "#     return (2. * intersection + smooth) / (K.sum(y_true_f) + K.sum(y_pred_f) + smooth)\n",
    "\n",
    "# def iou_coef(y_true, y_pred, smooth=1e-06):\n",
    "#     intersection = K.sum(K.abs(y_true * y_pred), axis=[1,2,3])\n",
    "#     union = K.sum(y_true,[1,2,3])+K.sum(y_pred,[1,2,3])-intersection\n",
    "#     iou = K.mean((intersection + smooth) / (union + smooth), axis=0)\n",
    "#     return iou\n",
    "\n",
    "\n",
    "# def dice_loss(y_true, y_pred):\n",
    "#     smooth = 1.\n",
    "#     y_true = tf.cast(y_true, tf.float32)\n",
    "#     y_true_f = K.flatten(y_true)\n",
    "#     y_pred_f = K.flatten(y_pred)\n",
    "#     intersection = y_true_f * y_pred_f\n",
    "#     score = (2. * K.sum(intersection) + smooth) / (K.sum(y_true_f) + K.sum(y_pred_f) + smooth)\n",
    "#     return 1. - score\n",
    "\n",
    "# def bce_dice_loss(y_true, y_pred):\n",
    "#     return binary_crossentropy(tf.cast(y_true, tf.float32), y_pred) + 0.5 * dice_loss(tf.cast(y_true, tf.float32), y_pred)\n",
    "\n",
    "# def weighted_loss(y_true, y_pred):\n",
    "#     # Calculate the base loss\n",
    "#     ce = K.sparse_categorical_crossentropy(y_true, y_pred)\n",
    "#     # Apply the weights\n",
    "#     one_weight = 1.0\n",
    "#     zero_weight = 1e-2\n",
    "#     weight_vector = y_true * one_weight + (1. - y_true) * zero_weight\n",
    "#     weight_vector = K.squeeze(weight_vector, axis=-1)\n",
    "#     weighted_ce = weight_vector * ce\n",
    "\n",
    "#     # Return the mean error\n",
    "#     return K.mean(weighted_ce)\n",
    "\n",
    "# def soft_dice_loss(y_true, y_pred, epsilon=1e-6):\n",
    "#     #ref: https://www.jeremyjordan.me/semantic-segmentation/\n",
    "#     y_true = tf.cast(y_true, tf.float32)\n",
    "#     axes = tuple(range(1, len(y_pred.shape)-1)) \n",
    "#     numerator = 2. * np.sum(y_pred * y_true, axes)\n",
    "#     denominator = np.sum(np.square(y_pred) + np.square(y_true), axes)\n",
    "#     return 1 - np.mean((numerator + epsilon) / (denominator + epsilon))"
   ]
  },
  {
   "cell_type": "code",
   "execution_count": 8,
   "id": "c87bea6b",
   "metadata": {
    "execution": {
     "iopub.execute_input": "2022-09-16T05:46:03.189873Z",
     "iopub.status.busy": "2022-09-16T05:46:03.189581Z",
     "iopub.status.idle": "2022-09-16T05:46:21.543652Z",
     "shell.execute_reply": "2022-09-16T05:46:21.542559Z"
    },
    "papermill": {
     "duration": 18.361354,
     "end_time": "2022-09-16T05:46:21.546314",
     "exception": false,
     "start_time": "2022-09-16T05:46:03.184960",
     "status": "completed"
    },
    "tags": []
   },
   "outputs": [
    {
     "name": "stdout",
     "output_type": "stream",
     "text": [
      "Downloading data from https://github.com/Callidior/keras-applications/releases/download/efficientnet/efficientnet-b6_weights_tf_dim_ordering_tf_kernels_autoaugment_notop.h5\n",
      "165527552/165527152 [==============================] - 9s 0us/step\n",
      "165535744/165527152 [==============================] - 9s 0us/step\n",
      "Model: \"model_1\"\n",
      "_________________________________________________________________\n",
      "Layer (type)                 Output Shape              Param #   \n",
      "=================================================================\n",
      "input_2 (InputLayer)         [(None, 256, 256, 3)]     0         \n",
      "_________________________________________________________________\n",
      "model (Functional)           (None, None, None, 1)     44444681  \n",
      "=================================================================\n",
      "Total params: 44,444,681\n",
      "Trainable params: 44,217,945\n",
      "Non-trainable params: 226,736\n",
      "_________________________________________________________________\n"
     ]
    }
   ],
   "source": [
    "# base = sm.Linknet(\n",
    "#     backbone_name='efficientnetb2',\n",
    "#     input_shape=(None, None, 3),\n",
    "#     classes=1,\n",
    "#     activation='sigmoid',\n",
    "#     weights=None,\n",
    "#     encoder_weights='imagenet',\n",
    "#     encoder_freeze=False,\n",
    "#     encoder_features='default',\n",
    "#     decoder_block_type='upsampling',\n",
    "#     decoder_filters=(256, 128, 64, 32, 16),\n",
    "#     decoder_use_batchnorm=True\n",
    "# )\n",
    "\n",
    "# base = sm.Unet(\n",
    "#     backbone_name= 'efficientnetb7',\n",
    "#     input_shape= (None, None, 3), #the H and W of the image should be divisible by 32\n",
    "#     classes= 1,\n",
    "#     activation= 'sigmoid',\n",
    "#     weights= None, \n",
    "#     encoder_weights= 'imagenet',\n",
    "#     encoder_freeze= False,\n",
    "#     encoder_features= 'default',\n",
    "#     decoder_block_type= 'upsampling',\n",
    "#     decoder_filters= (256, 128, 64, 32, 16),\n",
    "#     decoder_use_batchnorm= True\n",
    "# )\n",
    "\n",
    "base = sm.FPN(\n",
    "    backbone_name='efficientnetb6',\n",
    "    input_shape=(None, None, 3),\n",
    "    classes=1,\n",
    "    activation='sigmoid',\n",
    "    weights=None,\n",
    "    encoder_weights='imagenet',\n",
    "    encoder_freeze=False,\n",
    "    encoder_features='default',\n",
    "    pyramid_block_filters=256,\n",
    "    pyramid_use_batchnorm=True,\n",
    "    pyramid_aggregation='concat',\n",
    "    pyramid_dropout=None\n",
    ")\n",
    "\n",
    "inpt = tf.keras.Input(shape=(cfg['img_shape'], cfg['img_shape'], 3))\n",
    "out = base(inpt)\n",
    "model = tf.keras.Model(inputs=inpt, outputs=out)\n",
    "model.summary()"
   ]
  },
  {
   "cell_type": "code",
   "execution_count": 9,
   "id": "5d0e9f4e",
   "metadata": {
    "execution": {
     "iopub.execute_input": "2022-09-16T05:46:21.569831Z",
     "iopub.status.busy": "2022-09-16T05:46:21.569519Z",
     "iopub.status.idle": "2022-09-16T08:15:27.052930Z",
     "shell.execute_reply": "2022-09-16T08:15:27.051450Z"
    },
    "papermill": {
     "duration": 8945.498506,
     "end_time": "2022-09-16T08:15:27.056125",
     "exception": false,
     "start_time": "2022-09-16T05:46:21.557619",
     "status": "completed"
    },
    "tags": []
   },
   "outputs": [
    {
     "name": "stdout",
     "output_type": "stream",
     "text": [
      "Epoch 1/50\n",
      "561/561 [==============================] - 361s 579ms/step - loss: 1.0281 - iou_score: 0.2509 - f1-score: 0.3782 - val_loss: 1.0103 - val_iou_score: 0.2663 - val_f1-score: 0.4058\n",
      "Epoch 2/50\n",
      "561/561 [==============================] - 323s 574ms/step - loss: 0.9145 - iou_score: 0.3353 - f1-score: 0.4740 - val_loss: 0.7153 - val_iou_score: 0.4586 - val_f1-score: 0.6002\n",
      "Epoch 3/50\n",
      "561/561 [==============================] - 329s 581ms/step - loss: 0.8596 - iou_score: 0.3707 - f1-score: 0.5085 - val_loss: 0.8080 - val_iou_score: 0.3969 - val_f1-score: 0.5377\n",
      "Epoch 4/50\n",
      "561/561 [==============================] - 329s 580ms/step - loss: 0.7809 - iou_score: 0.4220 - f1-score: 0.5596 - val_loss: 0.7778 - val_iou_score: 0.4788 - val_f1-score: 0.6094\n",
      "Epoch 5/50\n",
      "561/561 [==============================] - 326s 578ms/step - loss: 0.7556 - iou_score: 0.4408 - f1-score: 0.5748 - val_loss: 0.7182 - val_iou_score: 0.4698 - val_f1-score: 0.6112\n",
      "Epoch 6/50\n",
      "561/561 [==============================] - 329s 582ms/step - loss: 0.7535 - iou_score: 0.4462 - f1-score: 0.5803 - val_loss: 0.6277 - val_iou_score: 0.5402 - val_f1-score: 0.6723\n",
      "Epoch 7/50\n",
      "561/561 [==============================] - 324s 573ms/step - loss: 0.7143 - iou_score: 0.4795 - f1-score: 0.6149 - val_loss: 0.6073 - val_iou_score: 0.5693 - val_f1-score: 0.7030\n",
      "Epoch 8/50\n",
      "561/561 [==============================] - 329s 583ms/step - loss: 0.7246 - iou_score: 0.4635 - f1-score: 0.5933 - val_loss: 0.6009 - val_iou_score: 0.5590 - val_f1-score: 0.6943\n",
      "Epoch 9/50\n",
      "561/561 [==============================] - 324s 574ms/step - loss: 0.7009 - iou_score: 0.4794 - f1-score: 0.6123 - val_loss: 0.5626 - val_iou_score: 0.5741 - val_f1-score: 0.7087\n",
      "Epoch 10/50\n",
      "561/561 [==============================] - 327s 579ms/step - loss: 0.6884 - iou_score: 0.4924 - f1-score: 0.6218 - val_loss: 0.5776 - val_iou_score: 0.5721 - val_f1-score: 0.7042\n",
      "Epoch 11/50\n",
      "561/561 [==============================] - 329s 582ms/step - loss: 0.6598 - iou_score: 0.5123 - f1-score: 0.6410 - val_loss: 0.6138 - val_iou_score: 0.5325 - val_f1-score: 0.6728\n",
      "Epoch 12/50\n",
      "561/561 [==============================] - 328s 582ms/step - loss: 0.6495 - iou_score: 0.5186 - f1-score: 0.6452 - val_loss: 0.6121 - val_iou_score: 0.5394 - val_f1-score: 0.6697\n",
      "Epoch 13/50\n",
      "561/561 [==============================] - 325s 575ms/step - loss: 0.6610 - iou_score: 0.5117 - f1-score: 0.6391 - val_loss: 0.5554 - val_iou_score: 0.5899 - val_f1-score: 0.7122\n",
      "Epoch 14/50\n",
      "561/561 [==============================] - 325s 578ms/step - loss: 0.6492 - iou_score: 0.5189 - f1-score: 0.6467 - val_loss: 0.5092 - val_iou_score: 0.6295 - val_f1-score: 0.7572\n",
      "Epoch 15/50\n",
      "561/561 [==============================] - 323s 571ms/step - loss: 0.6118 - iou_score: 0.5505 - f1-score: 0.6757 - val_loss: 0.6342 - val_iou_score: 0.5501 - val_f1-score: 0.6855\n",
      "Epoch 16/50\n",
      "561/561 [==============================] - 324s 572ms/step - loss: 0.6269 - iou_score: 0.5368 - f1-score: 0.6636 - val_loss: 0.5684 - val_iou_score: 0.5653 - val_f1-score: 0.6988\n",
      "Epoch 17/50\n",
      "561/561 [==============================] - 323s 571ms/step - loss: 0.6418 - iou_score: 0.5222 - f1-score: 0.6469 - val_loss: 0.5058 - val_iou_score: 0.6432 - val_f1-score: 0.7617\n",
      "Epoch 18/50\n",
      "561/561 [==============================] - 328s 579ms/step - loss: 0.6154 - iou_score: 0.5415 - f1-score: 0.6654 - val_loss: 0.5103 - val_iou_score: 0.6362 - val_f1-score: 0.7549\n",
      "Epoch 19/50\n",
      "561/561 [==============================] - 327s 578ms/step - loss: 0.6145 - iou_score: 0.5523 - f1-score: 0.6742 - val_loss: 0.7326 - val_iou_score: 0.4924 - val_f1-score: 0.6241\n",
      "Epoch 20/50\n",
      "561/561 [==============================] - 330s 585ms/step - loss: 0.6117 - iou_score: 0.5431 - f1-score: 0.6669 - val_loss: 0.5675 - val_iou_score: 0.5928 - val_f1-score: 0.7148\n",
      "Epoch 21/50\n",
      "561/561 [==============================] - 329s 582ms/step - loss: 0.5722 - iou_score: 0.5776 - f1-score: 0.6990 - val_loss: 0.4725 - val_iou_score: 0.6533 - val_f1-score: 0.7751\n",
      "Epoch 22/50\n",
      "561/561 [==============================] - 328s 582ms/step - loss: 0.5850 - iou_score: 0.5690 - f1-score: 0.6921 - val_loss: 0.5577 - val_iou_score: 0.5768 - val_f1-score: 0.7007\n",
      "Epoch 23/50\n",
      "561/561 [==============================] - 325s 576ms/step - loss: 0.6170 - iou_score: 0.5398 - f1-score: 0.6625 - val_loss: 0.5522 - val_iou_score: 0.5792 - val_f1-score: 0.7110\n",
      "Epoch 24/50\n",
      "561/561 [==============================] - 328s 582ms/step - loss: 0.5936 - iou_score: 0.5564 - f1-score: 0.6759 - val_loss: 0.5103 - val_iou_score: 0.6037 - val_f1-score: 0.7313\n",
      "Epoch 25/50\n",
      "561/561 [==============================] - 333s 589ms/step - loss: 0.6037 - iou_score: 0.5522 - f1-score: 0.6742 - val_loss: 0.5286 - val_iou_score: 0.5965 - val_f1-score: 0.7243\n",
      "Epoch 26/50\n",
      "561/561 [==============================] - 325s 575ms/step - loss: 0.5660 - iou_score: 0.5752 - f1-score: 0.6957 - val_loss: 0.4741 - val_iou_score: 0.6468 - val_f1-score: 0.7679\n"
     ]
    }
   ],
   "source": [
    "model.compile(\n",
    "    optimizer=tf.keras.optimizers.Adam(),\n",
    "    loss= sm.losses.bce_jaccard_loss, \n",
    "    metrics= [sm.metrics.iou_score, sm.metrics.f1_score]\n",
    ")\n",
    "\n",
    "checkpoint = tf.keras.callbacks.ModelCheckpoint(\n",
    "    filepath='/kaggle/working/best_model.h5',\n",
    "    monitor='val_loss',\n",
    "    verbose=0,\n",
    "    save_best_only=True,\n",
    "    mode='min'\n",
    ")\n",
    "\n",
    "reduce_lr = tf.keras.callbacks.ReduceLROnPlateau(\n",
    "    monitor='val_loss',\n",
    "    factor=0.9,\n",
    "    patience=2,\n",
    "    verbose=0,\n",
    "    min_lr=1e-07,\n",
    "    mode='min'\n",
    ")\n",
    "\n",
    "es = tf.keras.callbacks.EarlyStopping(\n",
    "    patience=5,\n",
    "    min_delta=0,\n",
    "    monitor='val_loss',\n",
    "    restore_best_weights=True,\n",
    "    verbose=0,\n",
    "    mode='min',\n",
    "    baseline=None\n",
    ")\n",
    "\n",
    "LR_START = cfg['lr']\n",
    "LR_MAX = 1e-2\n",
    "LR_RAMPUP_EPOCHS = 2\n",
    "LR_SUSTAIN_EPOCHS = 0\n",
    "LR_STEP_DECAY = 0.316\n",
    "LR_STEP_EPOCHS = 5\n",
    "\n",
    "def lrfn(epoch):\n",
    "    if epoch < LR_RAMPUP_EPOCHS:\n",
    "        lr = (LR_MAX - LR_START) / LR_RAMPUP_EPOCHS * epoch + LR_START\n",
    "    elif epoch < LR_RAMPUP_EPOCHS + LR_SUSTAIN_EPOCHS:\n",
    "        lr = LR_MAX\n",
    "    else:\n",
    "        lr = LR_MAX * LR_STEP_DECAY**((epoch - LR_RAMPUP_EPOCHS - LR_SUSTAIN_EPOCHS)// LR_STEP_EPOCHS)\n",
    "    return lr\n",
    "\n",
    "lr = tf.keras.callbacks.LearningRateScheduler(lrfn, verbose = True)\n",
    "\n",
    "history = model.fit(train_ds, \n",
    "                    validation_data=valid_ds,\n",
    "                    epochs = cfg['epochs'],\n",
    "                    callbacks=[es, checkpoint, reduce_lr],\n",
    "                    use_multiprocessing=True,\n",
    "                    workers=4,\n",
    "                    verbose=1\n",
    "                   )"
   ]
  },
  {
   "cell_type": "code",
   "execution_count": 10,
   "id": "cc687c21",
   "metadata": {
    "execution": {
     "iopub.execute_input": "2022-09-16T08:15:28.686294Z",
     "iopub.status.busy": "2022-09-16T08:15:28.684840Z",
     "iopub.status.idle": "2022-09-16T08:15:28.948859Z",
     "shell.execute_reply": "2022-09-16T08:15:28.947949Z"
    },
    "papermill": {
     "duration": 1.113097,
     "end_time": "2022-09-16T08:15:28.951035",
     "exception": false,
     "start_time": "2022-09-16T08:15:27.837938",
     "status": "completed"
    },
    "tags": []
   },
   "outputs": [
    {
     "data": {
      "image/png": "[encoded data removed]",
      "text/plain": [
       "<Figure size 432x288 with 1 Axes>"
      ]
     },
     "metadata": {
      "needs_background": "light"
     },
     "output_type": "display_data"
    }
   ],
   "source": [
    "plt.plot(history.history['loss'])\n",
    "plt.plot(history.history['val_loss'])\n",
    "plt.title('model loss')\n",
    "plt.ylabel('loss')\n",
    "plt.xlabel('epoch')\n",
    "plt.legend(['train', 'test'], loc='upper left')\n",
    "plt.show()"
   ]
  },
  {
   "cell_type": "code",
   "execution_count": 11,
   "id": "7ea4e525",
   "metadata": {
    "execution": {
     "iopub.execute_input": "2022-09-16T08:15:30.602314Z",
     "iopub.status.busy": "2022-09-16T08:15:30.601784Z",
     "iopub.status.idle": "2022-09-16T08:15:30.810582Z",
     "shell.execute_reply": "2022-09-16T08:15:30.809542Z"
    },
    "papermill": {
     "duration": 1.062895,
     "end_time": "2022-09-16T08:15:30.812746",
     "exception": false,
     "start_time": "2022-09-16T08:15:29.749851",
     "status": "completed"
    },
    "tags": []
   },
   "outputs": [
    {
     "data": {
      "image/png": "[encoded data removed]",
      "text/plain": [
       "<Figure size 432x288 with 1 Axes>"
      ]
     },
     "metadata": {
      "needs_background": "light"
     },
     "output_type": "display_data"
    }
   ],
   "source": [
    "plt.plot(history.history['f1-score'])\n",
    "plt.plot(history.history['val_f1-score'])\n",
    "plt.title('F1 Score')\n",
    "plt.ylabel('loss')\n",
    "plt.xlabel('epoch')\n",
    "plt.legend(['train', 'test'], loc='upper left')\n",
    "plt.show()"
   ]
  },
  {
   "cell_type": "code",
   "execution_count": 12,
   "id": "fb999e58",
   "metadata": {
    "execution": {
     "iopub.execute_input": "2022-09-16T08:15:32.450113Z",
     "iopub.status.busy": "2022-09-16T08:15:32.449547Z",
     "iopub.status.idle": "2022-09-16T08:15:32.659530Z",
     "shell.execute_reply": "2022-09-16T08:15:32.658588Z"
    },
    "papermill": {
     "duration": 1.06731,
     "end_time": "2022-09-16T08:15:32.661980",
     "exception": false,
     "start_time": "2022-09-16T08:15:31.594670",
     "status": "completed"
    },
    "tags": []
   },
   "outputs": [
    {
     "data": {
      "image/png": "[encoded data removed]",
      "text/plain": [
       "<Figure size 432x288 with 1 Axes>"
      ]
     },
     "metadata": {
      "needs_background": "light"
     },
     "output_type": "display_data"
    }
   ],
   "source": [
    "plt.plot(history.history['iou_score'])\n",
    "plt.plot(history.history['val_iou_score'])\n",
    "plt.title('iou coef')\n",
    "plt.ylabel('loss')\n",
    "plt.xlabel('epoch')\n",
    "plt.legend(['train', 'test'], loc='upper left')\n",
    "plt.show()"
   ]
  },
  {
   "cell_type": "code",
   "execution_count": 13,
   "id": "3d9b82f2",
   "metadata": {
    "execution": {
     "iopub.execute_input": "2022-09-16T08:15:34.291909Z",
     "iopub.status.busy": "2022-09-16T08:15:34.291440Z",
     "iopub.status.idle": "2022-09-16T08:15:34.488486Z",
     "shell.execute_reply": "2022-09-16T08:15:34.487571Z"
    },
    "papermill": {
     "duration": 1.047224,
     "end_time": "2022-09-16T08:15:34.490664",
     "exception": false,
     "start_time": "2022-09-16T08:15:33.443440",
     "status": "completed"
    },
    "tags": []
   },
   "outputs": [
    {
     "data": {
      "image/png": "[encoded data removed]",
      "text/plain": [
       "<Figure size 432x288 with 1 Axes>"
      ]
     },
     "metadata": {
      "needs_background": "light"
     },
     "output_type": "display_data"
    }
   ],
   "source": [
    "plt.plot(history.history['lr'])\n",
    "plt.title('model lr')\n",
    "plt.ylabel('lr')\n",
    "plt.xlabel('epoch')\n",
    "plt.show()"
   ]
  }
 ],
 "metadata": {
  "kernelspec": {
   "display_name": "Python 3",
   "language": "python",
   "name": "python3"
  },
  "language_info": {
   "codemirror_mode": {
    "name": "ipython",
    "version": 3
   },
   "file_extension": ".py",
   "mimetype": "text/x-python",
   "name": "python",
   "nbconvert_exporter": "python",
   "pygments_lexer": "ipython3",
   "version": "3.7.12"
  },
  "papermill": {
   "default_parameters": {},
   "duration": 9003.027978,
   "end_time": "2022-09-16T08:15:38.347269",
   "environment_variables": {},
   "exception": null,
   "input_path": "__notebook__.ipynb",
   "output_path": "__notebook__.ipynb",
   "parameters": {},
   "start_time": "2022-09-16T05:45:35.319291",
   "version": "2.3.4"
  }
 },
 "nbformat": 4,
 "nbformat_minor": 5
}
